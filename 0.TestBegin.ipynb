{
 "cells": [
  {
   "cell_type": "markdown",
   "metadata": {},
   "source": [
    "## Spark配置说明\n",
    "- 1.Spark启动配置详见印象笔记\n",
    "- 2.启动Spark ./sbin/start-all.sh\n",
    "- 3.测试Shell  ./bin/pyspark\n",
    "- 4.配置PyShell + Jupyter   详见印象笔记"
   ]
  },
  {
   "cell_type": "code",
   "execution_count": 4,
   "metadata": {
    "collapsed": false
   },
   "outputs": [],
   "source": [
    "from pyspark import SparkContext,SparkConf\n",
    "conf = SparkConf().setMaster(\"local\").setAppName(\"My App\")\n",
    "sc = SparkContext('local','pyspark')"
   ]
  },
  {
   "cell_type": "code",
   "execution_count": 2,
   "metadata": {
    "collapsed": false
   },
   "outputs": [
    {
     "data": {
      "text/plain": [
       "'Quick Start'"
      ]
     },
     "execution_count": 2,
     "metadata": {},
     "output_type": "execute_result"
    }
   ],
   "source": [
    "import os\n",
    "pwd = !pwd\n",
    "filePath = os.path.abspath(\"./quickstart.txt\")    # 获取文件绝对路径\n",
    "\n",
    "# 本地文件需要加file://   hdfs路径hdfs://\n",
    "# 创建一个名为lines的RDD   \n",
    "lines = sc.textFile(\"file://\" + filePath)    \n",
    "\n",
    "# 统计RDD中元素个数\n",
    "lines.count() \n",
    "\n",
    "# RDD中的第一个元素，也就是文件的第一行\n",
    "lines.first() "
   ]
  },
  {
   "cell_type": "code",
   "execution_count": 3,
   "metadata": {
    "collapsed": false
   },
   "outputs": [
    {
     "name": "stdout",
     "output_type": "stream",
     "text": [
      "import org.apache.spark.SparkContext\n",
      "import org.apache.spark.SparkContext._\n",
      "import org.apache.spark.SparkConf\n",
      "libraryDependencies += \"org.apache.spark\" %% \"spark-core\" % \"1.6.2\"\n"
     ]
    }
   ],
   "source": [
    "# 读取\n",
    "sparkLines = lines.filter(lambda line : \"apache\" in line)\n",
    "for s in sparkLines.collect():\n",
    "    print (s)"
   ]
  },
  {
   "cell_type": "code",
   "execution_count": 4,
   "metadata": {
    "collapsed": false
   },
   "outputs": [
    {
     "name": "stdout",
     "output_type": "stream",
     "text": [
      "Automatic pdb calling has been turned ON\n"
     ]
    }
   ],
   "source": [
    "%pdb on"
   ]
  },
  {
   "cell_type": "code",
   "execution_count": 8,
   "metadata": {
    "collapsed": false
   },
   "outputs": [],
   "source": [
    "SparkContext?"
   ]
  }
 ],
 "metadata": {
  "kernelspec": {
   "display_name": "Python 3",
   "language": "python",
   "name": "python3"
  },
  "language_info": {
   "codemirror_mode": {
    "name": "ipython",
    "version": 3
   },
   "file_extension": ".py",
   "mimetype": "text/x-python",
   "name": "python",
   "nbconvert_exporter": "python",
   "pygments_lexer": "ipython3",
   "version": "3.5.1"
  }
 },
 "nbformat": 4,
 "nbformat_minor": 0
}
