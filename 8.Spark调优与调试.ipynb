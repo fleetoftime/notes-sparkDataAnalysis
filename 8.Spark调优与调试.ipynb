{
 "cells": [
  {
   "cell_type": "markdown",
   "metadata": {},
   "source": [
    "# Charpter8 Spark调优与调试"
   ]
  },
  {
   "cell_type": "code",
   "execution_count": 1,
   "metadata": {
    "collapsed": false
   },
   "outputs": [],
   "source": [
    "from pyspark import SparkConf,SparkContext\n",
    "# sc = SparkContext(\"spark://10.5.110.240:7077\",\"DebugTest\")\n",
    "sc = SparkContext(\"local\",\"DebugTest\")"
   ]
  },
  {
   "cell_type": "code",
   "execution_count": 16,
   "metadata": {
    "collapsed": false
   },
   "outputs": [
    {
     "data": {
      "text/plain": [
       "[('WARN', 2), ('INFO', 3), ('ERROR', 2)]"
      ]
     },
     "execution_count": 16,
     "metadata": {},
     "output_type": "execute_result"
    }
   ],
   "source": [
    "input = sc.textFile(\"file://\" + os.path.abspath(\".\") + \"/input.txt\")\n",
    "# input.collect()\n",
    "words = input.map(lambda line : line.split(\" \")).filter(lambda word: len(word) > 1)\n",
    "# words.collect()\n",
    "counts = words.map(lambda word : (word[0],1)).reduceByKey(lambda x,y : x+y)\n",
    "counts.cache()\n",
    "counts.collect()"
   ]
  }
 ],
 "metadata": {
  "kernelspec": {
   "display_name": "Python 3",
   "language": "python",
   "name": "python3"
  },
  "language_info": {
   "codemirror_mode": {
    "name": "ipython",
    "version": 3
   },
   "file_extension": ".py",
   "mimetype": "text/x-python",
   "name": "python",
   "nbconvert_exporter": "python",
   "pygments_lexer": "ipython3",
   "version": "3.5.1"
  }
 },
 "nbformat": 4,
 "nbformat_minor": 0
}
