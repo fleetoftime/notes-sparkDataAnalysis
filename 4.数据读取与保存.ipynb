{
 "cells": [
  {
   "cell_type": "markdown",
   "metadata": {},
   "source": [
    "# 数据读取与保存"
   ]
  },
  {
   "cell_type": "markdown",
   "metadata": {},
   "source": [
    "### 文件格式\n",
    "- 文本文件\n",
    "- JSON\n",
    "- CSV\n",
    "- SequenceFIle\n",
    "- Protocol buffers\n",
    "- 对象文件"
   ]
  },
  {
   "cell_type": "markdown",
   "metadata": {},
   "source": [
    "#### 读取文本文件"
   ]
  },
  {
   "cell_type": "code",
   "execution_count": 1,
   "metadata": {
    "collapsed": true
   },
   "outputs": [],
   "source": [
    "from pyspark import SparkContext\n",
    "sc = SparkContext(\"local\",\"FileReader\")"
   ]
  },
  {
   "cell_type": "code",
   "execution_count": 36,
   "metadata": {
    "collapsed": false
   },
   "outputs": [],
   "source": [
    "# 读取文件夹下所有文件\n",
    "inputRDD = sc.textFile(\"file:///Users/lixiwei-mac/Documents/MyBlog\")\n",
    "inputRDD.collect()\n",
    "# 读取文件夹，文件名为K，内容为V\n",
    "wholePairRDD = sc.wholeTextFiles(\"file:///Users/lixiwei-mac/Documents/MyBlog\")\n",
    "partRDD = wholePairRDD.mapValues(lambda x : x[0:len(x)%100])\n",
    "partRDD.collect()\n",
    "# 保存RDD到本地文件\n",
    "partRDD.saveAsTextFile(\"file:///Users/lixiwei-mac/Documents/MyBlog/pair\")"
   ]
  },
  {
   "cell_type": "markdown",
   "metadata": {},
   "source": [
    "#### JSON"
   ]
  },
  {
   "cell_type": "code",
   "execution_count": 41,
   "metadata": {
    "collapsed": true
   },
   "outputs": [
    {
     "data": {
      "text/plain": [
       "[('file:/Users/lixiwei-mac/Desktop/contractJson.json',\n",
       "  {'appearcountry': 1,\n",
       "   'appearcountrymemo': '地域说',\n",
       "   'applyer': {'caid': '1b3000000000000daba0'},\n",
       "   'applytype': 3,\n",
       "   'attachment': {'content': ['5oiR5piv56ysMeS4qumZhOS7tg==',\n",
       "     '5oiR5piv56ysMuS4qumZhOS7tg==',\n",
       "     '5oiR5piv56ysM+S4qumZhOS7tg==',\n",
       "     '5oiR5piv56ysNOS4qumZhOS7tg==',\n",
       "     '5oiR5piv56ysNeS4qumZhOS7tg=='],\n",
       "    'filename': ['ZHTXX-01.txt',\n",
       "     'ZHTXX-02.txt',\n",
       "     'SQSM-01.txt',\n",
       "     'SFZZM.txt',\n",
       "     'SFZFM.txt']},\n",
       "   'contractfrom': {'address': '北京市石景山区晋元庄路5号',\n",
       "    'country': '中国',\n",
       "    'idcardtype': 1,\n",
       "    'idnumber': '100000400005994',\n",
       "    'name': '中国国际金融股份有限公司',\n",
       "    'peopletype': '1'},\n",
       "   'contractto': {'address': '第三洞穴',\n",
       "    'country': '赛亚人星球',\n",
       "    'idcardtype': 1,\n",
       "    'idnumber': '88888888',\n",
       "    'name': '版库',\n",
       "    'peopletype': '1'},\n",
       "   'contracttype': 2,\n",
       "   'hasDCIC': '0',\n",
       "   'productnum': 1,\n",
       "   'products': [{'authorrealname': '李熙伟',\n",
       "     'authorwritename': '小李',\n",
       "     'completecity': '北京',\n",
       "     'completecountry': '中国',\n",
       "     'finishtime': '2016-07-25 18:29:47',\n",
       "     'name': '没有登记过的作品来合同备案',\n",
       "     'obtainmode': '1',\n",
       "     'registertype': '1',\n",
       "     'res_id': 'B12CFV9L13',\n",
       "     'rightownmode': '1',\n",
       "     'rightscope': '1$2$3$4$5',\n",
       "     'textcreatetype': '1',\n",
       "     'texttype': '1'}],\n",
       "   'proxy': {'caid': '97C4169A58064938AED5886ADDA7E3C1'},\n",
       "   'proxycontent': '合同备案测试',\n",
       "   'registertype': 'textContractRegist',\n",
       "   'remark': 'TTTTTTTTTTTTT',\n",
       "   'res_id': 'R00000143278181282011',\n",
       "   'rightscope': '1$2$3$4',\n",
       "   'validdatestart': '2016-07-25 18:29:47'})]"
      ]
     },
     "execution_count": 41,
     "metadata": {},
     "output_type": "execute_result"
    }
   ],
   "source": [
    "import json\n",
    "jsonRDD = sc.wholeTextFiles(\"file:///Users/lixiwei-mac/Desktop/contractJson.json\")\n",
    "data = jsonRDD.mapValues(lambda x:json.loads(x))\n",
    "data.collect()"
   ]
  },
  {
   "cell_type": "code",
   "execution_count": 60,
   "metadata": {
    "collapsed": false,
    "scrolled": true
   },
   "outputs": [
    {
     "data": {
      "text/plain": [
       "['[\"panda\", 1]']"
      ]
     },
     "execution_count": 60,
     "metadata": {},
     "output_type": "execute_result"
    }
   ],
   "source": [
    "# 数据以Json形式存储\n",
    "pairRDD = sc.parallelize([[\"panda\",1],[\"banana\",2],[\"monkey\",3]])\n",
    "jsonRDD = pairRDD.filter(lambda x:x[0] == \"panda\").map(lambda x:json.dumps(x))#.saveAsTextFile(\"file:///Users/lixiwei-mac/Desktop/json.json\")\n",
    "jsonRDD.collect()"
   ]
  },
  {
   "cell_type": "markdown",
   "metadata": {},
   "source": [
    "### 文件系统"
   ]
  },
  {
   "cell_type": "markdown",
   "metadata": {},
   "source": [
    "#### Hive JSON HDFS"
   ]
  },
  {
   "cell_type": "code",
   "execution_count": 61,
   "metadata": {
    "collapsed": true
   },
   "outputs": [],
   "source": [
    "from pyspark.sql import HiveContext\n",
    "hiveCtx = HiveContext(sc)"
   ]
  },
  {
   "cell_type": "code",
   "execution_count": 81,
   "metadata": {
    "collapsed": false
   },
   "outputs": [
    {
     "data": {
      "text/plain": [
       "['{\"user\":{\"name\":\"Niko\",\"age\":\"15\"},\"text\":\"I love big data\"}',\n",
       " '{\"user\":{\"name\":\"Helen\",\"age\":\"25\"},\"text\":\"I love MachineLearning\"}']"
      ]
     },
     "execution_count": 81,
     "metadata": {},
     "output_type": "execute_result"
    }
   ],
   "source": [
    "json = sc.textFile(\"file://\" + os.path.abspath(\".\") + \"/hive.json\")\n",
    "json.collect()\n"
   ]
  },
  {
   "cell_type": "code",
   "execution_count": 104,
   "metadata": {
    "collapsed": false
   },
   "outputs": [
    {
     "name": "stderr",
     "output_type": "stream",
     "text": [
      "/Users/lixiwei-mac/app/spark-1.6.0-bin-hadoop2.6/python/pyspark/sql/context.py:481: UserWarning: jsonFile is deprecated. Use read.json() instead.\n",
      "  warnings.warn(\"jsonFile is deprecated. Use read.json() instead.\")\n"
     ]
    },
    {
     "data": {
      "text/plain": [
       "[Row(name='Niko'), Row(name='Helen')]"
      ]
     },
     "execution_count": 104,
     "metadata": {},
     "output_type": "execute_result"
    }
   ],
   "source": [
    "\n",
    "contract = hiveCtx.jsonFile(\"file://\" + os.path.abspath(\".\") + \"/hive.json\")\n",
    "contract.registerTempTable(\"contract\")\n",
    "results = hiveCtx.sql(\"select user.name from contract\")\n",
    "results.collect()"
   ]
  }
 ],
 "metadata": {
  "kernelspec": {
   "display_name": "Python 3",
   "language": "python",
   "name": "python3"
  },
  "language_info": {
   "codemirror_mode": {
    "name": "ipython",
    "version": 3
   },
   "file_extension": ".py",
   "mimetype": "text/x-python",
   "name": "python",
   "nbconvert_exporter": "python",
   "pygments_lexer": "ipython3",
   "version": "3.5.1"
  }
 },
 "nbformat": 4,
 "nbformat_minor": 0
}
